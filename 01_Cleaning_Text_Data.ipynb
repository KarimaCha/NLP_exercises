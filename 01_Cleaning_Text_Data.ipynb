{
 "cells": [
  {
   "cell_type": "markdown",
   "metadata": {},
   "source": [
    "# 01 - Cleaning Text Data\n",
    "\n",
    "- Code and examples based on: https://machinelearningmastery.com/crash-course-deep-learning-natural-language-processing/"
   ]
  },
  {
   "cell_type": "markdown",
   "metadata": {},
   "source": [
    "---\n",
    "## a) Load book text"
   ]
  },
  {
   "cell_type": "markdown",
   "metadata": {},
   "source": [
    "#### Option 1: Load from txt file"
   ]
  },
  {
   "cell_type": "code",
   "execution_count": 47,
   "metadata": {},
   "outputs": [
    {
     "data": {
      "text/plain": [
       "(str, 148539)"
      ]
     },
     "execution_count": 47,
     "metadata": {},
     "output_type": "execute_result"
    }
   ],
   "source": [
    "# load book text for Alice in Wonderland\n",
    "# downloaded from: https://archive.org/details/alicesadventures00011gut/page/n9/mode/2up\n",
    "\n",
    "filename = 'data/alice30_booktext.txt'\n",
    "file = open(filename, 'rt')\n",
    "text1 = file.read()\n",
    "file.close()\n",
    "\n",
    "type(text1), len(text1)"
   ]
  },
  {
   "cell_type": "code",
   "execution_count": 50,
   "metadata": {},
   "outputs": [
    {
     "data": {
      "text/plain": [
       "\"thout pictures or conversation?'\\n\\n  So she was considering in her own mind (as well as she could,\\nfor the hot day made her feel very sleepy and stupid), whether\\nthe pleasure of making a daisy-chain would be worth the trouble\\nof getting up and picking the daisies, when suddenly a White\\nRabbit with pi\""
      ]
     },
     "execution_count": 50,
     "metadata": {},
     "output_type": "execute_result"
    }
   ],
   "source": [
    "text1[500:800]"
   ]
  },
  {
   "cell_type": "markdown",
   "metadata": {},
   "source": [
    "#### Option 2: Load from NLTK"
   ]
  },
  {
   "cell_type": "code",
   "execution_count": 48,
   "metadata": {},
   "outputs": [],
   "source": [
    "# NTLK: Natural Language Toolkit\n",
    "# !pip install nltk\n",
    "\n",
    "import nltk\n",
    "#nltk.download()"
   ]
  },
  {
   "cell_type": "code",
   "execution_count": 49,
   "metadata": {},
   "outputs": [
    {
     "data": {
      "text/plain": [
       "['austen-emma.txt',\n",
       " 'austen-persuasion.txt',\n",
       " 'austen-sense.txt',\n",
       " 'bible-kjv.txt',\n",
       " 'blake-poems.txt',\n",
       " 'bryant-stories.txt',\n",
       " 'burgess-busterbrown.txt',\n",
       " 'carroll-alice.txt',\n",
       " 'chesterton-ball.txt',\n",
       " 'chesterton-brown.txt',\n",
       " 'chesterton-thursday.txt',\n",
       " 'edgeworth-parents.txt',\n",
       " 'melville-moby_dick.txt',\n",
       " 'milton-paradise.txt',\n",
       " 'shakespeare-caesar.txt',\n",
       " 'shakespeare-hamlet.txt',\n",
       " 'shakespeare-macbeth.txt',\n",
       " 'whitman-leaves.txt']"
      ]
     },
     "execution_count": 49,
     "metadata": {},
     "output_type": "execute_result"
    }
   ],
   "source": [
    "# show booktexts provided by NTLK from project Gutenberg\n",
    "nltk.corpus.gutenberg.fileids()"
   ]
  },
  {
   "cell_type": "code",
   "execution_count": 51,
   "metadata": {},
   "outputs": [
    {
     "data": {
      "text/plain": [
       "(str, 144395)"
      ]
     },
     "execution_count": 51,
     "metadata": {},
     "output_type": "execute_result"
    }
   ],
   "source": [
    "# load book text for Alice in Wonderland from NLTK\n",
    "\n",
    "text2 = nltk.corpus.gutenberg.raw('carroll-alice.txt')\n",
    "type(text2), len(text2)"
   ]
  },
  {
   "cell_type": "code",
   "execution_count": 52,
   "metadata": {},
   "outputs": [
    {
     "data": {
      "text/plain": [
       "'d stupid), whether the pleasure\\nof making a daisy-chain would be worth the trouble of getting up and\\npicking the daisies, when suddenly a White Rabbit with pink eyes ran\\nclose by her.\\n\\nThere was nothing so VERY remarkable in that; nor did Alice think it so\\nVERY much out of the way to hear the Rabbit'"
      ]
     },
     "execution_count": 52,
     "metadata": {},
     "output_type": "execute_result"
    }
   ],
   "source": [
    "text2[500:800]"
   ]
  },
  {
   "cell_type": "markdown",
   "metadata": {},
   "source": [
    "---\n",
    "## b)Tokenization\n",
    "**Tokenization**: the process of turning raw text into a list of words (or \"tokens\") which can be used for modeling"
   ]
  },
  {
   "cell_type": "markdown",
   "metadata": {},
   "source": [
    "#### Option 1: Manual Tokenization"
   ]
  },
  {
   "cell_type": "code",
   "execution_count": 53,
   "metadata": {},
   "outputs": [
    {
     "data": {
      "text/plain": [
       "(list, 26466)"
      ]
     },
     "execution_count": 53,
     "metadata": {},
     "output_type": "execute_result"
    }
   ],
   "source": [
    "# split text into words by white space\n",
    "words1 = text1.split()\n",
    "\n",
    "# convert all words to lowercase\n",
    "words1 = [word.lower() for word in words1]\n",
    "\n",
    "# ... do further editing of words\n",
    "\n",
    "type(words1), len(words1)"
   ]
  },
  {
   "cell_type": "code",
   "execution_count": 54,
   "metadata": {},
   "outputs": [
    {
     "data": {
      "text/plain": [
       "[\"alice's\", 'adventures', 'in', 'wonderland', 'lewis']"
      ]
     },
     "execution_count": 54,
     "metadata": {},
     "output_type": "execute_result"
    }
   ],
   "source": [
    "words1[:5]"
   ]
  },
  {
   "cell_type": "markdown",
   "metadata": {},
   "source": [
    "#### Option 2: NLTK Tokenization"
   ]
  },
  {
   "cell_type": "code",
   "execution_count": 63,
   "metadata": {},
   "outputs": [
    {
     "data": {
      "text/plain": [
       "(list, 33493)"
      ]
     },
     "execution_count": 63,
     "metadata": {},
     "output_type": "execute_result"
    }
   ],
   "source": [
    "# split into words\n",
    "from nltk.tokenize import word_tokenize\n",
    "\n",
    "tokens = word_tokenize(text2)\n",
    "tokens = [token.lower() for token in tokens]\n",
    "\n",
    "type(tokens), len(tokens)"
   ]
  },
  {
   "cell_type": "code",
   "execution_count": 65,
   "metadata": {},
   "outputs": [
    {
     "data": {
      "text/plain": [
       "['[', 'alice', \"'s\", 'adventures', 'in']"
      ]
     },
     "execution_count": 65,
     "metadata": {},
     "output_type": "execute_result"
    }
   ],
   "source": [
    "tokens[:5]"
   ]
  },
  {
   "cell_type": "code",
   "execution_count": 66,
   "metadata": {},
   "outputs": [],
   "source": [
    "# saving tokens\n",
    "import pickle\n",
    "\n",
    "with open('tokenizer.pickle', 'wb') as handle:\n",
    "    pickle.dump(tokens, handle, protocol=pickle.HIGHEST_PROTOCOL)"
   ]
  },
  {
   "cell_type": "code",
   "execution_count": 69,
   "metadata": {},
   "outputs": [],
   "source": [
    "# loading tokens\n",
    "with open('tokenizer.pickle', 'rb') as handle:\n",
    "    tokens2 = pickle.load(handle)"
   ]
  },
  {
   "cell_type": "code",
   "execution_count": 68,
   "metadata": {},
   "outputs": [
    {
     "data": {
      "text/plain": [
       "True"
      ]
     },
     "execution_count": 68,
     "metadata": {},
     "output_type": "execute_result"
    }
   ],
   "source": [
    "tokens2 == tokens"
   ]
  },
  {
   "cell_type": "markdown",
   "metadata": {},
   "source": [
    "#### Option 3: Get tokens provided by NLTK"
   ]
  },
  {
   "cell_type": "code",
   "execution_count": 58,
   "metadata": {},
   "outputs": [
    {
     "data": {
      "text/plain": [
       "(nltk.corpus.reader.util.StreamBackedCorpusView, 34110)"
      ]
     },
     "execution_count": 58,
     "metadata": {},
     "output_type": "execute_result"
    }
   ],
   "source": [
    "tokens = nltk.corpus.gutenberg.words('carroll-alice.txt')\n",
    "type(tokens), len(tokens)"
   ]
  },
  {
   "cell_type": "code",
   "execution_count": 62,
   "metadata": {},
   "outputs": [
    {
     "data": {
      "text/plain": [
       "['[', 'Alice', \"'\", 's', 'Adventures']"
      ]
     },
     "execution_count": 62,
     "metadata": {},
     "output_type": "execute_result"
    }
   ],
   "source": [
    "tokens[:5]"
   ]
  },
  {
   "cell_type": "code",
   "execution_count": null,
   "metadata": {},
   "outputs": [],
   "source": []
  },
  {
   "cell_type": "code",
   "execution_count": null,
   "metadata": {},
   "outputs": [],
   "source": []
  },
  {
   "cell_type": "code",
   "execution_count": 1,
   "metadata": {},
   "outputs": [],
   "source": [
    "# read the data into a pandas dataframe:\n",
    "# code from: https://nijianmo.github.io/amazon/index.html#subsets\n",
    "\n",
    "import pandas as pd\n",
    "import gzip\n",
    "import json\n",
    "\n",
    "def parse(path):\n",
    "    g = gzip.open(path, 'rb')\n",
    "    for l in g:\n",
    "        yield json.loads(l)\n",
    "\n",
    "def getDF(path):\n",
    "    i = 0\n",
    "    df = {}\n",
    "    for d in parse(path):\n",
    "        df[i] = d\n",
    "        i += 1\n",
    "        if i==100:\n",
    "            return pd.DataFrame.from_dict(df, orient='index')\n",
    "\n",
    "df = getDF('data/reviews_Movies_and_TV_5.json.gz')"
   ]
  },
  {
   "cell_type": "code",
   "execution_count": 2,
   "metadata": {},
   "outputs": [
    {
     "data": {
      "text/html": [
       "<div>\n",
       "<style scoped>\n",
       "    .dataframe tbody tr th:only-of-type {\n",
       "        vertical-align: middle;\n",
       "    }\n",
       "\n",
       "    .dataframe tbody tr th {\n",
       "        vertical-align: top;\n",
       "    }\n",
       "\n",
       "    .dataframe thead th {\n",
       "        text-align: right;\n",
       "    }\n",
       "</style>\n",
       "<table border=\"1\" class=\"dataframe\">\n",
       "  <thead>\n",
       "    <tr style=\"text-align: right;\">\n",
       "      <th></th>\n",
       "      <th>overall</th>\n",
       "      <th>verified</th>\n",
       "      <th>reviewTime</th>\n",
       "      <th>reviewerID</th>\n",
       "      <th>asin</th>\n",
       "      <th>style</th>\n",
       "      <th>reviewerName</th>\n",
       "      <th>reviewText</th>\n",
       "      <th>summary</th>\n",
       "      <th>unixReviewTime</th>\n",
       "      <th>vote</th>\n",
       "    </tr>\n",
       "  </thead>\n",
       "  <tbody>\n",
       "    <tr>\n",
       "      <th>0</th>\n",
       "      <td>5.0</td>\n",
       "      <td>True</td>\n",
       "      <td>11 9, 2012</td>\n",
       "      <td>A2M1CU2IRZG0K9</td>\n",
       "      <td>0005089549</td>\n",
       "      <td>{'Format:': ' VHS Tape'}</td>\n",
       "      <td>Terri</td>\n",
       "      <td>So sorry I didn't purchase this years ago when...</td>\n",
       "      <td>Amazing!</td>\n",
       "      <td>1352419200</td>\n",
       "      <td>NaN</td>\n",
       "    </tr>\n",
       "    <tr>\n",
       "      <th>1</th>\n",
       "      <td>5.0</td>\n",
       "      <td>True</td>\n",
       "      <td>12 30, 2011</td>\n",
       "      <td>AFTUJYISOFHY6</td>\n",
       "      <td>0005089549</td>\n",
       "      <td>{'Format:': ' VHS Tape'}</td>\n",
       "      <td>Melissa D. Abercrombie</td>\n",
       "      <td>Believe me when I tell you that you will recei...</td>\n",
       "      <td>Great Gospel VHS of the Cathedrals!</td>\n",
       "      <td>1325203200</td>\n",
       "      <td>NaN</td>\n",
       "    </tr>\n",
       "    <tr>\n",
       "      <th>2</th>\n",
       "      <td>5.0</td>\n",
       "      <td>True</td>\n",
       "      <td>04 21, 2005</td>\n",
       "      <td>A3JVF9Y53BEOGC</td>\n",
       "      <td>000503860X</td>\n",
       "      <td>{'Format:': ' DVD'}</td>\n",
       "      <td>Anthony Thompson</td>\n",
       "      <td>I have seen X live many times, both in the ear...</td>\n",
       "      <td>A great document of a great band</td>\n",
       "      <td>1114041600</td>\n",
       "      <td>11</td>\n",
       "    </tr>\n",
       "    <tr>\n",
       "      <th>3</th>\n",
       "      <td>5.0</td>\n",
       "      <td>True</td>\n",
       "      <td>04 6, 2005</td>\n",
       "      <td>A12VPEOEZS1KTC</td>\n",
       "      <td>000503860X</td>\n",
       "      <td>{'Format:': ' DVD'}</td>\n",
       "      <td>JadeRain</td>\n",
       "      <td>I was so excited for this!  Finally, a live co...</td>\n",
       "      <td>YES!!  X LIVE!!</td>\n",
       "      <td>1112745600</td>\n",
       "      <td>5</td>\n",
       "    </tr>\n",
       "    <tr>\n",
       "      <th>4</th>\n",
       "      <td>5.0</td>\n",
       "      <td>True</td>\n",
       "      <td>12 3, 2010</td>\n",
       "      <td>ATLZNVLYKP9AZ</td>\n",
       "      <td>000503860X</td>\n",
       "      <td>{'Format:': ' DVD'}</td>\n",
       "      <td>T. Fisher</td>\n",
       "      <td>X is one of the best punk bands ever. I don't ...</td>\n",
       "      <td>X have still got it</td>\n",
       "      <td>1291334400</td>\n",
       "      <td>5</td>\n",
       "    </tr>\n",
       "  </tbody>\n",
       "</table>\n",
       "</div>"
      ],
      "text/plain": [
       "   overall  verified   reviewTime      reviewerID        asin  \\\n",
       "0      5.0      True   11 9, 2012  A2M1CU2IRZG0K9  0005089549   \n",
       "1      5.0      True  12 30, 2011   AFTUJYISOFHY6  0005089549   \n",
       "2      5.0      True  04 21, 2005  A3JVF9Y53BEOGC  000503860X   \n",
       "3      5.0      True   04 6, 2005  A12VPEOEZS1KTC  000503860X   \n",
       "4      5.0      True   12 3, 2010   ATLZNVLYKP9AZ  000503860X   \n",
       "\n",
       "                      style            reviewerName  \\\n",
       "0  {'Format:': ' VHS Tape'}                   Terri   \n",
       "1  {'Format:': ' VHS Tape'}  Melissa D. Abercrombie   \n",
       "2       {'Format:': ' DVD'}        Anthony Thompson   \n",
       "3       {'Format:': ' DVD'}                JadeRain   \n",
       "4       {'Format:': ' DVD'}               T. Fisher   \n",
       "\n",
       "                                          reviewText  \\\n",
       "0  So sorry I didn't purchase this years ago when...   \n",
       "1  Believe me when I tell you that you will recei...   \n",
       "2  I have seen X live many times, both in the ear...   \n",
       "3  I was so excited for this!  Finally, a live co...   \n",
       "4  X is one of the best punk bands ever. I don't ...   \n",
       "\n",
       "                               summary  unixReviewTime vote  \n",
       "0                             Amazing!      1352419200  NaN  \n",
       "1  Great Gospel VHS of the Cathedrals!      1325203200  NaN  \n",
       "2     A great document of a great band      1114041600   11  \n",
       "3                      YES!!  X LIVE!!      1112745600    5  \n",
       "4                  X have still got it      1291334400    5  "
      ]
     },
     "execution_count": 2,
     "metadata": {},
     "output_type": "execute_result"
    }
   ],
   "source": [
    "df.head()"
   ]
  },
  {
   "cell_type": "markdown",
   "metadata": {},
   "source": [
    "**Data dictionary:**\n",
    "- overall - rating of the product\n",
    "- reviewTime - time of the review (raw)\n",
    "- reviewerID - ID of the reviewer, e.g. A2SUAM1J3GNN3B\n",
    "- asin - ID of the product, e.g. 0000013714\n",
    "- style - a disctionary of the product metadata, e.g., \"Format\" is \"Hardcover\"\n",
    "- reviewerName - name of the reviewer\n",
    "- reviewText - text of the review\n",
    "- summary - summary of the review\n",
    "- unixReviewTime - time of the review (unix time)\n",
    "- vote - helpful votes of the review\n",
    "- image - images that users post after they have received the product"
   ]
  }
 ],
 "metadata": {
  "kernelspec": {
   "display_name": "Python 3",
   "language": "python",
   "name": "python3"
  },
  "language_info": {
   "codemirror_mode": {
    "name": "ipython",
    "version": 3
   },
   "file_extension": ".py",
   "mimetype": "text/x-python",
   "name": "python",
   "nbconvert_exporter": "python",
   "pygments_lexer": "ipython3",
   "version": "3.7.1"
  }
 },
 "nbformat": 4,
 "nbformat_minor": 2
}
